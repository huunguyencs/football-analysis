{
 "metadata": {
  "language_info": {
   "codemirror_mode": {
    "name": "ipython",
    "version": 3
   },
   "file_extension": ".py",
   "mimetype": "text/x-python",
   "name": "python",
   "nbconvert_exporter": "python",
   "pygments_lexer": "ipython3",
   "version": "3.8.5-final"
  },
  "orig_nbformat": 2,
  "kernelspec": {
   "name": "python3",
   "display_name": "Python 3.8.5 64-bit",
   "metadata": {
    "interpreter": {
     "hash": "31f2aee4e71d21fbe5cf8b01ff0e069b9275f58929596ceb00d14d90e3e16cd6"
    }
   }
  }
 },
 "nbformat": 4,
 "nbformat_minor": 2,
 "cells": [
  {
   "source": [
    "# Analysis premier league season 2018-2019"
   ],
   "cell_type": "markdown",
   "metadata": {}
  },
  {
   "cell_type": "code",
   "execution_count": 32,
   "metadata": {},
   "outputs": [],
   "source": [
    "import numpy as np\n",
    "import pandas as pd\n",
    "\n",
    "df= pd.read_csv(\"./season-1819.csv\")"
   ]
  },
  {
   "cell_type": "code",
   "execution_count": 33,
   "metadata": {},
   "outputs": [
    {
     "output_type": "execute_result",
     "data": {
      "text/plain": [
       "         Date      HomeTeam        AwayTeam  FTHG  FTAG FTR  HTHG  HTAG HTR  \\\n",
       "0    10/08/18    Man United       Leicester     2     1   H     1     0   H   \n",
       "1    11/08/18   Bournemouth         Cardiff     2     0   H     1     0   H   \n",
       "2    11/08/18        Fulham  Crystal Palace     0     2   A     0     1   A   \n",
       "3    11/08/18  Huddersfield         Chelsea     0     3   A     0     2   A   \n",
       "4    11/08/18     Newcastle       Tottenham     1     2   A     1     2   A   \n",
       "..        ...           ...             ...   ...   ...  ..   ...   ...  ..   \n",
       "375  12/05/19     Liverpool          Wolves     2     0   H     1     0   H   \n",
       "376  12/05/19    Man United         Cardiff     0     2   A     0     1   A   \n",
       "377  12/05/19   Southampton    Huddersfield     1     1   D     1     0   H   \n",
       "378  12/05/19     Tottenham         Everton     2     2   D     1     0   H   \n",
       "379  12/05/19       Watford        West Ham     1     4   A     0     2   A   \n",
       "\n",
       "        Referee  ...  HST  AST  HF  AF  HC  AC  HY  AY  HR  AR  \n",
       "0    A Marriner  ...    6    4  11   8   2   5   2   1   0   0  \n",
       "1      K Friend  ...    4    1  11   9   7   4   1   1   0   0  \n",
       "2        M Dean  ...    6    9   9  11   5   5   1   2   0   0  \n",
       "3    C Kavanagh  ...    1    4   9   8   2   5   2   1   0   0  \n",
       "4    M Atkinson  ...    2    5  11  12   3   5   2   2   0   0  \n",
       "..          ...  ...  ...  ...  ..  ..  ..  ..  ..  ..  ..  ..  \n",
       "375  M Atkinson  ...    5    2   3  11   4   1   0   2   0   0  \n",
       "376      J Moss  ...   10    4   9   6  11   2   3   3   0   0  \n",
       "377   L Probert  ...    3    3   8   6   4   3   0   1   0   0  \n",
       "378  A Marriner  ...    3    9  10  13   7   4   0   2   0   0  \n",
       "379  C Kavanagh  ...    8    9  10  10   7   2   1   0   1   0  \n",
       "\n",
       "[380 rows x 22 columns]"
      ],
      "text/html": "<div>\n<style scoped>\n    .dataframe tbody tr th:only-of-type {\n        vertical-align: middle;\n    }\n\n    .dataframe tbody tr th {\n        vertical-align: top;\n    }\n\n    .dataframe thead th {\n        text-align: right;\n    }\n</style>\n<table border=\"1\" class=\"dataframe\">\n  <thead>\n    <tr style=\"text-align: right;\">\n      <th></th>\n      <th>Date</th>\n      <th>HomeTeam</th>\n      <th>AwayTeam</th>\n      <th>FTHG</th>\n      <th>FTAG</th>\n      <th>FTR</th>\n      <th>HTHG</th>\n      <th>HTAG</th>\n      <th>HTR</th>\n      <th>Referee</th>\n      <th>...</th>\n      <th>HST</th>\n      <th>AST</th>\n      <th>HF</th>\n      <th>AF</th>\n      <th>HC</th>\n      <th>AC</th>\n      <th>HY</th>\n      <th>AY</th>\n      <th>HR</th>\n      <th>AR</th>\n    </tr>\n  </thead>\n  <tbody>\n    <tr>\n      <th>0</th>\n      <td>10/08/18</td>\n      <td>Man United</td>\n      <td>Leicester</td>\n      <td>2</td>\n      <td>1</td>\n      <td>H</td>\n      <td>1</td>\n      <td>0</td>\n      <td>H</td>\n      <td>A Marriner</td>\n      <td>...</td>\n      <td>6</td>\n      <td>4</td>\n      <td>11</td>\n      <td>8</td>\n      <td>2</td>\n      <td>5</td>\n      <td>2</td>\n      <td>1</td>\n      <td>0</td>\n      <td>0</td>\n    </tr>\n    <tr>\n      <th>1</th>\n      <td>11/08/18</td>\n      <td>Bournemouth</td>\n      <td>Cardiff</td>\n      <td>2</td>\n      <td>0</td>\n      <td>H</td>\n      <td>1</td>\n      <td>0</td>\n      <td>H</td>\n      <td>K Friend</td>\n      <td>...</td>\n      <td>4</td>\n      <td>1</td>\n      <td>11</td>\n      <td>9</td>\n      <td>7</td>\n      <td>4</td>\n      <td>1</td>\n      <td>1</td>\n      <td>0</td>\n      <td>0</td>\n    </tr>\n    <tr>\n      <th>2</th>\n      <td>11/08/18</td>\n      <td>Fulham</td>\n      <td>Crystal Palace</td>\n      <td>0</td>\n      <td>2</td>\n      <td>A</td>\n      <td>0</td>\n      <td>1</td>\n      <td>A</td>\n      <td>M Dean</td>\n      <td>...</td>\n      <td>6</td>\n      <td>9</td>\n      <td>9</td>\n      <td>11</td>\n      <td>5</td>\n      <td>5</td>\n      <td>1</td>\n      <td>2</td>\n      <td>0</td>\n      <td>0</td>\n    </tr>\n    <tr>\n      <th>3</th>\n      <td>11/08/18</td>\n      <td>Huddersfield</td>\n      <td>Chelsea</td>\n      <td>0</td>\n      <td>3</td>\n      <td>A</td>\n      <td>0</td>\n      <td>2</td>\n      <td>A</td>\n      <td>C Kavanagh</td>\n      <td>...</td>\n      <td>1</td>\n      <td>4</td>\n      <td>9</td>\n      <td>8</td>\n      <td>2</td>\n      <td>5</td>\n      <td>2</td>\n      <td>1</td>\n      <td>0</td>\n      <td>0</td>\n    </tr>\n    <tr>\n      <th>4</th>\n      <td>11/08/18</td>\n      <td>Newcastle</td>\n      <td>Tottenham</td>\n      <td>1</td>\n      <td>2</td>\n      <td>A</td>\n      <td>1</td>\n      <td>2</td>\n      <td>A</td>\n      <td>M Atkinson</td>\n      <td>...</td>\n      <td>2</td>\n      <td>5</td>\n      <td>11</td>\n      <td>12</td>\n      <td>3</td>\n      <td>5</td>\n      <td>2</td>\n      <td>2</td>\n      <td>0</td>\n      <td>0</td>\n    </tr>\n    <tr>\n      <th>...</th>\n      <td>...</td>\n      <td>...</td>\n      <td>...</td>\n      <td>...</td>\n      <td>...</td>\n      <td>...</td>\n      <td>...</td>\n      <td>...</td>\n      <td>...</td>\n      <td>...</td>\n      <td>...</td>\n      <td>...</td>\n      <td>...</td>\n      <td>...</td>\n      <td>...</td>\n      <td>...</td>\n      <td>...</td>\n      <td>...</td>\n      <td>...</td>\n      <td>...</td>\n      <td>...</td>\n    </tr>\n    <tr>\n      <th>375</th>\n      <td>12/05/19</td>\n      <td>Liverpool</td>\n      <td>Wolves</td>\n      <td>2</td>\n      <td>0</td>\n      <td>H</td>\n      <td>1</td>\n      <td>0</td>\n      <td>H</td>\n      <td>M Atkinson</td>\n      <td>...</td>\n      <td>5</td>\n      <td>2</td>\n      <td>3</td>\n      <td>11</td>\n      <td>4</td>\n      <td>1</td>\n      <td>0</td>\n      <td>2</td>\n      <td>0</td>\n      <td>0</td>\n    </tr>\n    <tr>\n      <th>376</th>\n      <td>12/05/19</td>\n      <td>Man United</td>\n      <td>Cardiff</td>\n      <td>0</td>\n      <td>2</td>\n      <td>A</td>\n      <td>0</td>\n      <td>1</td>\n      <td>A</td>\n      <td>J Moss</td>\n      <td>...</td>\n      <td>10</td>\n      <td>4</td>\n      <td>9</td>\n      <td>6</td>\n      <td>11</td>\n      <td>2</td>\n      <td>3</td>\n      <td>3</td>\n      <td>0</td>\n      <td>0</td>\n    </tr>\n    <tr>\n      <th>377</th>\n      <td>12/05/19</td>\n      <td>Southampton</td>\n      <td>Huddersfield</td>\n      <td>1</td>\n      <td>1</td>\n      <td>D</td>\n      <td>1</td>\n      <td>0</td>\n      <td>H</td>\n      <td>L Probert</td>\n      <td>...</td>\n      <td>3</td>\n      <td>3</td>\n      <td>8</td>\n      <td>6</td>\n      <td>4</td>\n      <td>3</td>\n      <td>0</td>\n      <td>1</td>\n      <td>0</td>\n      <td>0</td>\n    </tr>\n    <tr>\n      <th>378</th>\n      <td>12/05/19</td>\n      <td>Tottenham</td>\n      <td>Everton</td>\n      <td>2</td>\n      <td>2</td>\n      <td>D</td>\n      <td>1</td>\n      <td>0</td>\n      <td>H</td>\n      <td>A Marriner</td>\n      <td>...</td>\n      <td>3</td>\n      <td>9</td>\n      <td>10</td>\n      <td>13</td>\n      <td>7</td>\n      <td>4</td>\n      <td>0</td>\n      <td>2</td>\n      <td>0</td>\n      <td>0</td>\n    </tr>\n    <tr>\n      <th>379</th>\n      <td>12/05/19</td>\n      <td>Watford</td>\n      <td>West Ham</td>\n      <td>1</td>\n      <td>4</td>\n      <td>A</td>\n      <td>0</td>\n      <td>2</td>\n      <td>A</td>\n      <td>C Kavanagh</td>\n      <td>...</td>\n      <td>8</td>\n      <td>9</td>\n      <td>10</td>\n      <td>10</td>\n      <td>7</td>\n      <td>2</td>\n      <td>1</td>\n      <td>0</td>\n      <td>1</td>\n      <td>0</td>\n    </tr>\n  </tbody>\n</table>\n<p>380 rows × 22 columns</p>\n</div>"
     },
     "metadata": {},
     "execution_count": 33
    }
   ],
   "source": [
    "df"
   ]
  },
  {
   "cell_type": "code",
   "execution_count": 34,
   "metadata": {},
   "outputs": [
    {
     "output_type": "stream",
     "name": "stdout",
     "text": [
      "Total home goal: 596\nTotal away goal: 476\nTotal goal: 1072\n\nTotal home yellow card: 580\nTotal away yellow card: 640\nTotal yellow card: 1220\n\nTotal home red card: 18\nTotal away red card: 29\nTotal red card: 47\n"
     ]
    }
   ],
   "source": [
    "# Goal\n",
    "totalHomeGoal = sum(df['FTHG'])\n",
    "totalAwayGoal = sum(df['FTAG'])\n",
    "print('Total home goal: ' + str(totalHomeGoal))\n",
    "print('Total away goal: ' + str(totalAwayGoal))\n",
    "print('Total goal: ' + str(totalAwayGoal + totalHomeGoal))\n",
    "print()\n",
    "\n",
    "# Card\n",
    "totalHomeYellowCard = sum(df['HY'])\n",
    "totalAwayYellowCard = sum(df['AY'])\n",
    "totalYellowCard = totalHomeYellowCard + totalAwayYellowCard\n",
    "print('Total home yellow card: ' + str(totalHomeYellowCard))\n",
    "print('Total away yellow card: ' + str(totalAwayYellowCard))\n",
    "print('Total yellow card: ' + str(totalYellowCard))\n",
    "print()\n",
    "\n",
    "# Red card\n",
    "totalHomeRedCard = sum(df['HR'])\n",
    "totalAwayRedCard = sum(df['AR'])\n",
    "totalRedCard = totalHomeRedCard + totalAwayRedCard\n",
    "print('Total home red card: ' + str(totalHomeRedCard))\n",
    "print('Total away red card: ' + str(totalAwayRedCard))\n",
    "print('Total red card: ' + str(totalRedCard))\n"
   ]
  },
  {
   "source": [
    "## Arsenal"
   ],
   "cell_type": "markdown",
   "metadata": {}
  },
  {
   "cell_type": "code",
   "execution_count": 35,
   "metadata": {},
   "outputs": [
    {
     "output_type": "execute_result",
     "data": {
      "text/plain": [
       "         Date        HomeTeam        AwayTeam  FTHG  FTAG FTR  HTHG  HTAG HTR  \\\n",
       "7    12/08/18         Arsenal        Man City     0     2   A     0     1   A   \n",
       "11   18/08/18         Chelsea         Arsenal     3     2   H     2     2   D   \n",
       "20   25/08/18         Arsenal        West Ham     3     1   H     1     1   D   \n",
       "38   02/09/18         Cardiff         Arsenal     2     3   A     1     1   D   \n",
       "44   15/09/18       Newcastle         Arsenal     1     2   A     0     0   D   \n",
       "58   23/09/18         Arsenal         Everton     2     0   H     0     0   D   \n",
       "60   29/09/18         Arsenal         Watford     2     0   H     0     0   D   \n",
       "77   07/10/18          Fulham         Arsenal     1     5   A     1     1   D   \n",
       "89   22/10/18         Arsenal       Leicester     3     1   H     1     1   D   \n",
       "97   28/10/18  Crystal Palace         Arsenal     2     2   D     1     0   H   \n",
       "100  03/11/18         Arsenal       Liverpool     1     1   D     0     0   D   \n",
       "116  11/11/18         Arsenal          Wolves     1     1   D     0     1   A   \n",
       "127  25/11/18     Bournemouth         Arsenal     1     2   A     1     1   D   \n",
       "137  02/12/18         Arsenal       Tottenham     4     2   H     1     2   A   \n",
       "147  05/12/18      Man United         Arsenal     2     2   D     1     1   D   \n",
       "150  08/12/18         Arsenal    Huddersfield     1     0   H     0     0   D   \n",
       "169  16/12/18     Southampton         Arsenal     3     2   H     2     1   H   \n",
       "171  22/12/18         Arsenal         Burnley     3     1   H     1     0   H   \n",
       "180  26/12/18        Brighton         Arsenal     1     1   D     1     1   D   \n",
       "193  29/12/18       Liverpool         Arsenal     5     1   H     4     1   H   \n",
       "200  01/01/19         Arsenal          Fulham     4     1   H     1     0   H   \n",
       "216  12/01/19        West Ham         Arsenal     1     0   H     0     0   D   \n",
       "220  19/01/19         Arsenal         Chelsea     2     0   H     2     0   H   \n",
       "230  29/01/19         Arsenal         Cardiff     2     1   H     0     0   D   \n",
       "248  03/02/19        Man City         Arsenal     3     1   H     2     1   H   \n",
       "254  09/02/19    Huddersfield         Arsenal     1     2   A     0     2   A   \n",
       "267  24/02/19         Arsenal     Southampton     2     0   H     2     0   H   \n",
       "273  27/02/19         Arsenal     Bournemouth     5     1   H     2     1   H   \n",
       "283  02/03/19       Tottenham         Arsenal     1     1   D     0     1   A   \n",
       "296  10/03/19         Arsenal      Man United     2     0   H     1     0   H   \n",
       "313  01/04/19         Arsenal       Newcastle     2     0   H     1     0   H   \n",
       "323  07/04/19         Everton         Arsenal     1     0   H     1     0   H   \n",
       "334  15/04/19         Watford         Arsenal     0     1   A     0     1   A   \n",
       "342  21/04/19         Arsenal  Crystal Palace     2     3   A     0     1   A   \n",
       "349  24/04/19          Wolves         Arsenal     3     1   H     3     0   H   \n",
       "358  28/04/19       Leicester         Arsenal     3     0   H     0     0   D   \n",
       "366  05/05/19         Arsenal        Brighton     1     1   D     1     0   H   \n",
       "371  12/05/19         Burnley         Arsenal     1     3   A     0     0   D   \n",
       "\n",
       "        Referee  ...  HST  AST  HF  AF  HC  AC  HY  AY  HR  AR  \n",
       "7      M Oliver  ...    3    8  11  14   2   9   2   2   0   0  \n",
       "11   M Atkinson  ...   11    6  12   9   5   1   0   2   0   0  \n",
       "20      G Scott  ...   10    5  16  13  10   2   1   3   0   0  \n",
       "38     A Taylor  ...    3   11  12  14   3   9   3   4   0   0  \n",
       "44    L Probert  ...    2    2  13  11  10   4   0   0   0   0  \n",
       "58       J Moss  ...    5    6  17  12   5   9   2   1   0   0  \n",
       "60     A Taylor  ...    2    4  11  17   6   6   2   2   0   0  \n",
       "77    P Tierney  ...    4    7  11  12   4   2   2   0   0   0  \n",
       "89   C Kavanagh  ...    6    2  10  10   6   4   2   2   0   0  \n",
       "97   M Atkinson  ...    3    2  10  16   6   4   1   2   0   0  \n",
       "100  A Marriner  ...    4    4   7   7   5   8   1   1   0   0  \n",
       "116   S Attwell  ...    3    5   9  16  11   2   2   2   0   0  \n",
       "127    C Pawson  ...    5    4   6   9   5   8   2   1   0   0  \n",
       "137      M Dean  ...    7    6  15  17   8   5   3   3   0   1  \n",
       "147  A Marriner  ...    7    4  13  10   4   4   3   3   0   0  \n",
       "150   P Tierney  ...    2    0  13  20   7   1   5   4   0   0  \n",
       "169  C Kavanagh  ...    7    4  12  10   4   5   3   1   0   0  \n",
       "171    K Friend  ...    6    2  10  14   1   3   2   5   0   0  \n",
       "180    A Taylor  ...    3    4  10   4   4   9   2   1   0   0  \n",
       "193    M Oliver  ...   10    2   8  13   5   3   1   2   0   0  \n",
       "200     G Scott  ...    9    4   7  12   8   3   0   1   0   0  \n",
       "216      J Moss  ...    3    2   7  10   7   3   0   2   0   0  \n",
       "220    A Taylor  ...    5    1  13  15   5   6   0   2   0   0  \n",
       "230      M Dean  ...    4    2  14  12   4   7   3   3   0   0  \n",
       "248  M Atkinson  ...   12    2  11   8   4   2   1   1   0   0  \n",
       "254      J Moss  ...    6    4  17  12   5   0   3   2   0   0  \n",
       "267     G Scott  ...    4    4   7  14   6   4   0   0   0   0  \n",
       "273  C Kavanagh  ...    6    5  11   9   9   4   2   2   0   0  \n",
       "283    A Taylor  ...    3    4  15  14   3   4   3   2   0   1  \n",
       "296      J Moss  ...    3    4  12  18   5   2   2   2   0   0  \n",
       "313    A Taylor  ...    4    1  11  10   6   2   2   0   0   0  \n",
       "323    K Friend  ...    6    2   8   9   9   6   1   4   0   0  \n",
       "334    C Pawson  ...    3    6  12   8   6   4   2   0   1   0  \n",
       "342      J Moss  ...    5    7  15  12   8   3   4   1   0   0  \n",
       "349   S Attwell  ...    3    1  12   9   5   5   2   3   0   0  \n",
       "358    M Oliver  ...   12    1  13  13   8   6   3   1   0   1  \n",
       "366    A Taylor  ...    8    5   9  14  16   3   5   2   0   0  \n",
       "371      M Dean  ...    5    6  11   3   4   5   5   1   0   0  \n",
       "\n",
       "[38 rows x 22 columns]"
      ],
      "text/html": "<div>\n<style scoped>\n    .dataframe tbody tr th:only-of-type {\n        vertical-align: middle;\n    }\n\n    .dataframe tbody tr th {\n        vertical-align: top;\n    }\n\n    .dataframe thead th {\n        text-align: right;\n    }\n</style>\n<table border=\"1\" class=\"dataframe\">\n  <thead>\n    <tr style=\"text-align: right;\">\n      <th></th>\n      <th>Date</th>\n      <th>HomeTeam</th>\n      <th>AwayTeam</th>\n      <th>FTHG</th>\n      <th>FTAG</th>\n      <th>FTR</th>\n      <th>HTHG</th>\n      <th>HTAG</th>\n      <th>HTR</th>\n      <th>Referee</th>\n      <th>...</th>\n      <th>HST</th>\n      <th>AST</th>\n      <th>HF</th>\n      <th>AF</th>\n      <th>HC</th>\n      <th>AC</th>\n      <th>HY</th>\n      <th>AY</th>\n      <th>HR</th>\n      <th>AR</th>\n    </tr>\n  </thead>\n  <tbody>\n    <tr>\n      <th>7</th>\n      <td>12/08/18</td>\n      <td>Arsenal</td>\n      <td>Man City</td>\n      <td>0</td>\n      <td>2</td>\n      <td>A</td>\n      <td>0</td>\n      <td>1</td>\n      <td>A</td>\n      <td>M Oliver</td>\n      <td>...</td>\n      <td>3</td>\n      <td>8</td>\n      <td>11</td>\n      <td>14</td>\n      <td>2</td>\n      <td>9</td>\n      <td>2</td>\n      <td>2</td>\n      <td>0</td>\n      <td>0</td>\n    </tr>\n    <tr>\n      <th>11</th>\n      <td>18/08/18</td>\n      <td>Chelsea</td>\n      <td>Arsenal</td>\n      <td>3</td>\n      <td>2</td>\n      <td>H</td>\n      <td>2</td>\n      <td>2</td>\n      <td>D</td>\n      <td>M Atkinson</td>\n      <td>...</td>\n      <td>11</td>\n      <td>6</td>\n      <td>12</td>\n      <td>9</td>\n      <td>5</td>\n      <td>1</td>\n      <td>0</td>\n      <td>2</td>\n      <td>0</td>\n      <td>0</td>\n    </tr>\n    <tr>\n      <th>20</th>\n      <td>25/08/18</td>\n      <td>Arsenal</td>\n      <td>West Ham</td>\n      <td>3</td>\n      <td>1</td>\n      <td>H</td>\n      <td>1</td>\n      <td>1</td>\n      <td>D</td>\n      <td>G Scott</td>\n      <td>...</td>\n      <td>10</td>\n      <td>5</td>\n      <td>16</td>\n      <td>13</td>\n      <td>10</td>\n      <td>2</td>\n      <td>1</td>\n      <td>3</td>\n      <td>0</td>\n      <td>0</td>\n    </tr>\n    <tr>\n      <th>38</th>\n      <td>02/09/18</td>\n      <td>Cardiff</td>\n      <td>Arsenal</td>\n      <td>2</td>\n      <td>3</td>\n      <td>A</td>\n      <td>1</td>\n      <td>1</td>\n      <td>D</td>\n      <td>A Taylor</td>\n      <td>...</td>\n      <td>3</td>\n      <td>11</td>\n      <td>12</td>\n      <td>14</td>\n      <td>3</td>\n      <td>9</td>\n      <td>3</td>\n      <td>4</td>\n      <td>0</td>\n      <td>0</td>\n    </tr>\n    <tr>\n      <th>44</th>\n      <td>15/09/18</td>\n      <td>Newcastle</td>\n      <td>Arsenal</td>\n      <td>1</td>\n      <td>2</td>\n      <td>A</td>\n      <td>0</td>\n      <td>0</td>\n      <td>D</td>\n      <td>L Probert</td>\n      <td>...</td>\n      <td>2</td>\n      <td>2</td>\n      <td>13</td>\n      <td>11</td>\n      <td>10</td>\n      <td>4</td>\n      <td>0</td>\n      <td>0</td>\n      <td>0</td>\n      <td>0</td>\n    </tr>\n    <tr>\n      <th>58</th>\n      <td>23/09/18</td>\n      <td>Arsenal</td>\n      <td>Everton</td>\n      <td>2</td>\n      <td>0</td>\n      <td>H</td>\n      <td>0</td>\n      <td>0</td>\n      <td>D</td>\n      <td>J Moss</td>\n      <td>...</td>\n      <td>5</td>\n      <td>6</td>\n      <td>17</td>\n      <td>12</td>\n      <td>5</td>\n      <td>9</td>\n      <td>2</td>\n      <td>1</td>\n      <td>0</td>\n      <td>0</td>\n    </tr>\n    <tr>\n      <th>60</th>\n      <td>29/09/18</td>\n      <td>Arsenal</td>\n      <td>Watford</td>\n      <td>2</td>\n      <td>0</td>\n      <td>H</td>\n      <td>0</td>\n      <td>0</td>\n      <td>D</td>\n      <td>A Taylor</td>\n      <td>...</td>\n      <td>2</td>\n      <td>4</td>\n      <td>11</td>\n      <td>17</td>\n      <td>6</td>\n      <td>6</td>\n      <td>2</td>\n      <td>2</td>\n      <td>0</td>\n      <td>0</td>\n    </tr>\n    <tr>\n      <th>77</th>\n      <td>07/10/18</td>\n      <td>Fulham</td>\n      <td>Arsenal</td>\n      <td>1</td>\n      <td>5</td>\n      <td>A</td>\n      <td>1</td>\n      <td>1</td>\n      <td>D</td>\n      <td>P Tierney</td>\n      <td>...</td>\n      <td>4</td>\n      <td>7</td>\n      <td>11</td>\n      <td>12</td>\n      <td>4</td>\n      <td>2</td>\n      <td>2</td>\n      <td>0</td>\n      <td>0</td>\n      <td>0</td>\n    </tr>\n    <tr>\n      <th>89</th>\n      <td>22/10/18</td>\n      <td>Arsenal</td>\n      <td>Leicester</td>\n      <td>3</td>\n      <td>1</td>\n      <td>H</td>\n      <td>1</td>\n      <td>1</td>\n      <td>D</td>\n      <td>C Kavanagh</td>\n      <td>...</td>\n      <td>6</td>\n      <td>2</td>\n      <td>10</td>\n      <td>10</td>\n      <td>6</td>\n      <td>4</td>\n      <td>2</td>\n      <td>2</td>\n      <td>0</td>\n      <td>0</td>\n    </tr>\n    <tr>\n      <th>97</th>\n      <td>28/10/18</td>\n      <td>Crystal Palace</td>\n      <td>Arsenal</td>\n      <td>2</td>\n      <td>2</td>\n      <td>D</td>\n      <td>1</td>\n      <td>0</td>\n      <td>H</td>\n      <td>M Atkinson</td>\n      <td>...</td>\n      <td>3</td>\n      <td>2</td>\n      <td>10</td>\n      <td>16</td>\n      <td>6</td>\n      <td>4</td>\n      <td>1</td>\n      <td>2</td>\n      <td>0</td>\n      <td>0</td>\n    </tr>\n    <tr>\n      <th>100</th>\n      <td>03/11/18</td>\n      <td>Arsenal</td>\n      <td>Liverpool</td>\n      <td>1</td>\n      <td>1</td>\n      <td>D</td>\n      <td>0</td>\n      <td>0</td>\n      <td>D</td>\n      <td>A Marriner</td>\n      <td>...</td>\n      <td>4</td>\n      <td>4</td>\n      <td>7</td>\n      <td>7</td>\n      <td>5</td>\n      <td>8</td>\n      <td>1</td>\n      <td>1</td>\n      <td>0</td>\n      <td>0</td>\n    </tr>\n    <tr>\n      <th>116</th>\n      <td>11/11/18</td>\n      <td>Arsenal</td>\n      <td>Wolves</td>\n      <td>1</td>\n      <td>1</td>\n      <td>D</td>\n      <td>0</td>\n      <td>1</td>\n      <td>A</td>\n      <td>S Attwell</td>\n      <td>...</td>\n      <td>3</td>\n      <td>5</td>\n      <td>9</td>\n      <td>16</td>\n      <td>11</td>\n      <td>2</td>\n      <td>2</td>\n      <td>2</td>\n      <td>0</td>\n      <td>0</td>\n    </tr>\n    <tr>\n      <th>127</th>\n      <td>25/11/18</td>\n      <td>Bournemouth</td>\n      <td>Arsenal</td>\n      <td>1</td>\n      <td>2</td>\n      <td>A</td>\n      <td>1</td>\n      <td>1</td>\n      <td>D</td>\n      <td>C Pawson</td>\n      <td>...</td>\n      <td>5</td>\n      <td>4</td>\n      <td>6</td>\n      <td>9</td>\n      <td>5</td>\n      <td>8</td>\n      <td>2</td>\n      <td>1</td>\n      <td>0</td>\n      <td>0</td>\n    </tr>\n    <tr>\n      <th>137</th>\n      <td>02/12/18</td>\n      <td>Arsenal</td>\n      <td>Tottenham</td>\n      <td>4</td>\n      <td>2</td>\n      <td>H</td>\n      <td>1</td>\n      <td>2</td>\n      <td>A</td>\n      <td>M Dean</td>\n      <td>...</td>\n      <td>7</td>\n      <td>6</td>\n      <td>15</td>\n      <td>17</td>\n      <td>8</td>\n      <td>5</td>\n      <td>3</td>\n      <td>3</td>\n      <td>0</td>\n      <td>1</td>\n    </tr>\n    <tr>\n      <th>147</th>\n      <td>05/12/18</td>\n      <td>Man United</td>\n      <td>Arsenal</td>\n      <td>2</td>\n      <td>2</td>\n      <td>D</td>\n      <td>1</td>\n      <td>1</td>\n      <td>D</td>\n      <td>A Marriner</td>\n      <td>...</td>\n      <td>7</td>\n      <td>4</td>\n      <td>13</td>\n      <td>10</td>\n      <td>4</td>\n      <td>4</td>\n      <td>3</td>\n      <td>3</td>\n      <td>0</td>\n      <td>0</td>\n    </tr>\n    <tr>\n      <th>150</th>\n      <td>08/12/18</td>\n      <td>Arsenal</td>\n      <td>Huddersfield</td>\n      <td>1</td>\n      <td>0</td>\n      <td>H</td>\n      <td>0</td>\n      <td>0</td>\n      <td>D</td>\n      <td>P Tierney</td>\n      <td>...</td>\n      <td>2</td>\n      <td>0</td>\n      <td>13</td>\n      <td>20</td>\n      <td>7</td>\n      <td>1</td>\n      <td>5</td>\n      <td>4</td>\n      <td>0</td>\n      <td>0</td>\n    </tr>\n    <tr>\n      <th>169</th>\n      <td>16/12/18</td>\n      <td>Southampton</td>\n      <td>Arsenal</td>\n      <td>3</td>\n      <td>2</td>\n      <td>H</td>\n      <td>2</td>\n      <td>1</td>\n      <td>H</td>\n      <td>C Kavanagh</td>\n      <td>...</td>\n      <td>7</td>\n      <td>4</td>\n      <td>12</td>\n      <td>10</td>\n      <td>4</td>\n      <td>5</td>\n      <td>3</td>\n      <td>1</td>\n      <td>0</td>\n      <td>0</td>\n    </tr>\n    <tr>\n      <th>171</th>\n      <td>22/12/18</td>\n      <td>Arsenal</td>\n      <td>Burnley</td>\n      <td>3</td>\n      <td>1</td>\n      <td>H</td>\n      <td>1</td>\n      <td>0</td>\n      <td>H</td>\n      <td>K Friend</td>\n      <td>...</td>\n      <td>6</td>\n      <td>2</td>\n      <td>10</td>\n      <td>14</td>\n      <td>1</td>\n      <td>3</td>\n      <td>2</td>\n      <td>5</td>\n      <td>0</td>\n      <td>0</td>\n    </tr>\n    <tr>\n      <th>180</th>\n      <td>26/12/18</td>\n      <td>Brighton</td>\n      <td>Arsenal</td>\n      <td>1</td>\n      <td>1</td>\n      <td>D</td>\n      <td>1</td>\n      <td>1</td>\n      <td>D</td>\n      <td>A Taylor</td>\n      <td>...</td>\n      <td>3</td>\n      <td>4</td>\n      <td>10</td>\n      <td>4</td>\n      <td>4</td>\n      <td>9</td>\n      <td>2</td>\n      <td>1</td>\n      <td>0</td>\n      <td>0</td>\n    </tr>\n    <tr>\n      <th>193</th>\n      <td>29/12/18</td>\n      <td>Liverpool</td>\n      <td>Arsenal</td>\n      <td>5</td>\n      <td>1</td>\n      <td>H</td>\n      <td>4</td>\n      <td>1</td>\n      <td>H</td>\n      <td>M Oliver</td>\n      <td>...</td>\n      <td>10</td>\n      <td>2</td>\n      <td>8</td>\n      <td>13</td>\n      <td>5</td>\n      <td>3</td>\n      <td>1</td>\n      <td>2</td>\n      <td>0</td>\n      <td>0</td>\n    </tr>\n    <tr>\n      <th>200</th>\n      <td>01/01/19</td>\n      <td>Arsenal</td>\n      <td>Fulham</td>\n      <td>4</td>\n      <td>1</td>\n      <td>H</td>\n      <td>1</td>\n      <td>0</td>\n      <td>H</td>\n      <td>G Scott</td>\n      <td>...</td>\n      <td>9</td>\n      <td>4</td>\n      <td>7</td>\n      <td>12</td>\n      <td>8</td>\n      <td>3</td>\n      <td>0</td>\n      <td>1</td>\n      <td>0</td>\n      <td>0</td>\n    </tr>\n    <tr>\n      <th>216</th>\n      <td>12/01/19</td>\n      <td>West Ham</td>\n      <td>Arsenal</td>\n      <td>1</td>\n      <td>0</td>\n      <td>H</td>\n      <td>0</td>\n      <td>0</td>\n      <td>D</td>\n      <td>J Moss</td>\n      <td>...</td>\n      <td>3</td>\n      <td>2</td>\n      <td>7</td>\n      <td>10</td>\n      <td>7</td>\n      <td>3</td>\n      <td>0</td>\n      <td>2</td>\n      <td>0</td>\n      <td>0</td>\n    </tr>\n    <tr>\n      <th>220</th>\n      <td>19/01/19</td>\n      <td>Arsenal</td>\n      <td>Chelsea</td>\n      <td>2</td>\n      <td>0</td>\n      <td>H</td>\n      <td>2</td>\n      <td>0</td>\n      <td>H</td>\n      <td>A Taylor</td>\n      <td>...</td>\n      <td>5</td>\n      <td>1</td>\n      <td>13</td>\n      <td>15</td>\n      <td>5</td>\n      <td>6</td>\n      <td>0</td>\n      <td>2</td>\n      <td>0</td>\n      <td>0</td>\n    </tr>\n    <tr>\n      <th>230</th>\n      <td>29/01/19</td>\n      <td>Arsenal</td>\n      <td>Cardiff</td>\n      <td>2</td>\n      <td>1</td>\n      <td>H</td>\n      <td>0</td>\n      <td>0</td>\n      <td>D</td>\n      <td>M Dean</td>\n      <td>...</td>\n      <td>4</td>\n      <td>2</td>\n      <td>14</td>\n      <td>12</td>\n      <td>4</td>\n      <td>7</td>\n      <td>3</td>\n      <td>3</td>\n      <td>0</td>\n      <td>0</td>\n    </tr>\n    <tr>\n      <th>248</th>\n      <td>03/02/19</td>\n      <td>Man City</td>\n      <td>Arsenal</td>\n      <td>3</td>\n      <td>1</td>\n      <td>H</td>\n      <td>2</td>\n      <td>1</td>\n      <td>H</td>\n      <td>M Atkinson</td>\n      <td>...</td>\n      <td>12</td>\n      <td>2</td>\n      <td>11</td>\n      <td>8</td>\n      <td>4</td>\n      <td>2</td>\n      <td>1</td>\n      <td>1</td>\n      <td>0</td>\n      <td>0</td>\n    </tr>\n    <tr>\n      <th>254</th>\n      <td>09/02/19</td>\n      <td>Huddersfield</td>\n      <td>Arsenal</td>\n      <td>1</td>\n      <td>2</td>\n      <td>A</td>\n      <td>0</td>\n      <td>2</td>\n      <td>A</td>\n      <td>J Moss</td>\n      <td>...</td>\n      <td>6</td>\n      <td>4</td>\n      <td>17</td>\n      <td>12</td>\n      <td>5</td>\n      <td>0</td>\n      <td>3</td>\n      <td>2</td>\n      <td>0</td>\n      <td>0</td>\n    </tr>\n    <tr>\n      <th>267</th>\n      <td>24/02/19</td>\n      <td>Arsenal</td>\n      <td>Southampton</td>\n      <td>2</td>\n      <td>0</td>\n      <td>H</td>\n      <td>2</td>\n      <td>0</td>\n      <td>H</td>\n      <td>G Scott</td>\n      <td>...</td>\n      <td>4</td>\n      <td>4</td>\n      <td>7</td>\n      <td>14</td>\n      <td>6</td>\n      <td>4</td>\n      <td>0</td>\n      <td>0</td>\n      <td>0</td>\n      <td>0</td>\n    </tr>\n    <tr>\n      <th>273</th>\n      <td>27/02/19</td>\n      <td>Arsenal</td>\n      <td>Bournemouth</td>\n      <td>5</td>\n      <td>1</td>\n      <td>H</td>\n      <td>2</td>\n      <td>1</td>\n      <td>H</td>\n      <td>C Kavanagh</td>\n      <td>...</td>\n      <td>6</td>\n      <td>5</td>\n      <td>11</td>\n      <td>9</td>\n      <td>9</td>\n      <td>4</td>\n      <td>2</td>\n      <td>2</td>\n      <td>0</td>\n      <td>0</td>\n    </tr>\n    <tr>\n      <th>283</th>\n      <td>02/03/19</td>\n      <td>Tottenham</td>\n      <td>Arsenal</td>\n      <td>1</td>\n      <td>1</td>\n      <td>D</td>\n      <td>0</td>\n      <td>1</td>\n      <td>A</td>\n      <td>A Taylor</td>\n      <td>...</td>\n      <td>3</td>\n      <td>4</td>\n      <td>15</td>\n      <td>14</td>\n      <td>3</td>\n      <td>4</td>\n      <td>3</td>\n      <td>2</td>\n      <td>0</td>\n      <td>1</td>\n    </tr>\n    <tr>\n      <th>296</th>\n      <td>10/03/19</td>\n      <td>Arsenal</td>\n      <td>Man United</td>\n      <td>2</td>\n      <td>0</td>\n      <td>H</td>\n      <td>1</td>\n      <td>0</td>\n      <td>H</td>\n      <td>J Moss</td>\n      <td>...</td>\n      <td>3</td>\n      <td>4</td>\n      <td>12</td>\n      <td>18</td>\n      <td>5</td>\n      <td>2</td>\n      <td>2</td>\n      <td>2</td>\n      <td>0</td>\n      <td>0</td>\n    </tr>\n    <tr>\n      <th>313</th>\n      <td>01/04/19</td>\n      <td>Arsenal</td>\n      <td>Newcastle</td>\n      <td>2</td>\n      <td>0</td>\n      <td>H</td>\n      <td>1</td>\n      <td>0</td>\n      <td>H</td>\n      <td>A Taylor</td>\n      <td>...</td>\n      <td>4</td>\n      <td>1</td>\n      <td>11</td>\n      <td>10</td>\n      <td>6</td>\n      <td>2</td>\n      <td>2</td>\n      <td>0</td>\n      <td>0</td>\n      <td>0</td>\n    </tr>\n    <tr>\n      <th>323</th>\n      <td>07/04/19</td>\n      <td>Everton</td>\n      <td>Arsenal</td>\n      <td>1</td>\n      <td>0</td>\n      <td>H</td>\n      <td>1</td>\n      <td>0</td>\n      <td>H</td>\n      <td>K Friend</td>\n      <td>...</td>\n      <td>6</td>\n      <td>2</td>\n      <td>8</td>\n      <td>9</td>\n      <td>9</td>\n      <td>6</td>\n      <td>1</td>\n      <td>4</td>\n      <td>0</td>\n      <td>0</td>\n    </tr>\n    <tr>\n      <th>334</th>\n      <td>15/04/19</td>\n      <td>Watford</td>\n      <td>Arsenal</td>\n      <td>0</td>\n      <td>1</td>\n      <td>A</td>\n      <td>0</td>\n      <td>1</td>\n      <td>A</td>\n      <td>C Pawson</td>\n      <td>...</td>\n      <td>3</td>\n      <td>6</td>\n      <td>12</td>\n      <td>8</td>\n      <td>6</td>\n      <td>4</td>\n      <td>2</td>\n      <td>0</td>\n      <td>1</td>\n      <td>0</td>\n    </tr>\n    <tr>\n      <th>342</th>\n      <td>21/04/19</td>\n      <td>Arsenal</td>\n      <td>Crystal Palace</td>\n      <td>2</td>\n      <td>3</td>\n      <td>A</td>\n      <td>0</td>\n      <td>1</td>\n      <td>A</td>\n      <td>J Moss</td>\n      <td>...</td>\n      <td>5</td>\n      <td>7</td>\n      <td>15</td>\n      <td>12</td>\n      <td>8</td>\n      <td>3</td>\n      <td>4</td>\n      <td>1</td>\n      <td>0</td>\n      <td>0</td>\n    </tr>\n    <tr>\n      <th>349</th>\n      <td>24/04/19</td>\n      <td>Wolves</td>\n      <td>Arsenal</td>\n      <td>3</td>\n      <td>1</td>\n      <td>H</td>\n      <td>3</td>\n      <td>0</td>\n      <td>H</td>\n      <td>S Attwell</td>\n      <td>...</td>\n      <td>3</td>\n      <td>1</td>\n      <td>12</td>\n      <td>9</td>\n      <td>5</td>\n      <td>5</td>\n      <td>2</td>\n      <td>3</td>\n      <td>0</td>\n      <td>0</td>\n    </tr>\n    <tr>\n      <th>358</th>\n      <td>28/04/19</td>\n      <td>Leicester</td>\n      <td>Arsenal</td>\n      <td>3</td>\n      <td>0</td>\n      <td>H</td>\n      <td>0</td>\n      <td>0</td>\n      <td>D</td>\n      <td>M Oliver</td>\n      <td>...</td>\n      <td>12</td>\n      <td>1</td>\n      <td>13</td>\n      <td>13</td>\n      <td>8</td>\n      <td>6</td>\n      <td>3</td>\n      <td>1</td>\n      <td>0</td>\n      <td>1</td>\n    </tr>\n    <tr>\n      <th>366</th>\n      <td>05/05/19</td>\n      <td>Arsenal</td>\n      <td>Brighton</td>\n      <td>1</td>\n      <td>1</td>\n      <td>D</td>\n      <td>1</td>\n      <td>0</td>\n      <td>H</td>\n      <td>A Taylor</td>\n      <td>...</td>\n      <td>8</td>\n      <td>5</td>\n      <td>9</td>\n      <td>14</td>\n      <td>16</td>\n      <td>3</td>\n      <td>5</td>\n      <td>2</td>\n      <td>0</td>\n      <td>0</td>\n    </tr>\n    <tr>\n      <th>371</th>\n      <td>12/05/19</td>\n      <td>Burnley</td>\n      <td>Arsenal</td>\n      <td>1</td>\n      <td>3</td>\n      <td>A</td>\n      <td>0</td>\n      <td>0</td>\n      <td>D</td>\n      <td>M Dean</td>\n      <td>...</td>\n      <td>5</td>\n      <td>6</td>\n      <td>11</td>\n      <td>3</td>\n      <td>4</td>\n      <td>5</td>\n      <td>5</td>\n      <td>1</td>\n      <td>0</td>\n      <td>0</td>\n    </tr>\n  </tbody>\n</table>\n<p>38 rows × 22 columns</p>\n</div>"
     },
     "metadata": {},
     "execution_count": 35
    }
   ],
   "source": [
    "ars = df[(df['HomeTeam'] == 'Arsenal') | (df['AwayTeam'] == 'Arsenal')]\n",
    "ars"
   ]
  },
  {
   "cell_type": "code",
   "execution_count": 53,
   "metadata": {},
   "outputs": [],
   "source": [
    "homeWin = ars[(ars['HomeTeam'] == 'Arsenal') & (ars['FTR'] == 'H')]\n",
    "awayWin = ars[(ars['AwayTeam'] == 'Arsenal') & (ars['FTR'] == 'A')]\n",
    "homeDraw = ars[(ars['HomeTeam'] == 'Arsenal') & (ars['FTR'] == 'D')]\n",
    "awayDraw = ars[(ars['AwayTeam'] == 'Arsenal') & (ars['FTR'] == 'D')]\n",
    "# draw = ars[ars['FTR'] == 'D']\n"
   ]
  }
 ]
}